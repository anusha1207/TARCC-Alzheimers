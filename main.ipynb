{
 "cells": [
  {
   "cell_type": "code",
   "execution_count": 1,
   "metadata": {},
   "outputs": [],
   "source": [
    "from preprocessing.data_cleaning import get_cleaned_data, split_csv, get_features_label\n",
    "from preprocessing.encoding import encode_data\n",
    "from exploration.data_correlations import plot_correlations\n",
    "from exploration.data_statistics import plot_labels_pie_chart, plot_blood_draw_statistics\n",
    "from utils.utils import log_features\n",
    "from modeling.mrmr import perform_mrmr"
   ]
  },
  {
   "cell_type": "code",
   "execution_count": 2,
   "outputs": [],
   "source": [
    "df = encode_data(get_cleaned_data())\n",
    "df = df[df[\"P1_PT_TYPE\"] != 3]\n",
    "log_features(df)\n",
    "blood, clinical = split_csv(df)"
   ],
   "metadata": {
    "collapsed": false
   }
  },
  {
   "cell_type": "code",
   "execution_count": 3,
   "metadata": {},
   "outputs": [
    {
     "data": {
      "text/plain": "<Figure size 640x480 with 1 Axes>",
      "image/png": "[encoded data removed]"
     },
     "metadata": {},
     "output_type": "display_data"
    }
   ],
   "source": [
    "plot_labels_pie_chart(df, png=\"Pie Chart of Diagnoses\")"
   ]
  },
  {
   "cell_type": "code",
   "execution_count": null,
   "metadata": {
    "pycharm": {
     "is_executing": true
    }
   },
   "outputs": [],
   "source": [
    "plot_blood_draw_statistics(df, png=\"Blood Draw Proportions\")"
   ]
  },
  {
   "cell_type": "code",
   "execution_count": null,
   "metadata": {
    "pycharm": {
     "is_executing": true
    }
   },
   "outputs": [],
   "source": [
    "plot_correlations(df)"
   ]
  },
  {
   "cell_type": "code",
   "execution_count": null,
   "metadata": {},
   "outputs": [],
   "source": [
    "import pandas as pd\n",
    "import numpy as np\n",
    "\n",
    "y, X = get_features_label(df)\n",
    "y = pd.Series(y)\n",
    "(features, score, redundancy_matrix) = perform_mrmr(X, y, X.shape[1], scr = True)\n",
    "score = score.sort_values(ascending=False)\n",
    "score = score.reset_index()\n",
    "\n",
    "pairs = {}\n",
    "for num_features in range(1,X.shape[1]):\n",
    "    print(num_features)\n",
    "    test_df = df[score['index'][:num_features]]\n",
    "    test_df[\"P1_PT_TYPE\"] = df[\"P1_PT_TYPE\"]\n",
    "    micro_f1_score = test_mrmr_model(test_df)\n",
    "    pairs[num_features] = micro_f1_score"
   ]
  },
  {
   "cell_type": "code",
   "execution_count": null,
   "metadata": {},
   "outputs": [],
   "source": [
    "import pandas as pd\n",
    "\n",
    "y, X = get_features_label(df)\n",
    "y = pd.Series(y)\n",
    "\n",
    "features, score = perform_mrmr(X, y, 10, True)"
   ]
  },
  {
   "cell_type": "code",
   "execution_count": null,
   "outputs": [],
   "source": [],
   "metadata": {
    "collapsed": false
   }
  },
  {
   "cell_type": "code",
   "execution_count": null,
   "outputs": [],
   "source": [],
   "metadata": {
    "collapsed": false
   }
  },
  {
   "cell_type": "code",
   "execution_count": null,
   "outputs": [],
   "source": [],
   "metadata": {
    "collapsed": false
   }
  },
  {
   "cell_type": "code",
   "execution_count": null,
   "outputs": [],
   "source": [],
   "metadata": {
    "collapsed": false
   }
  },
  {
   "cell_type": "code",
   "execution_count": null,
   "outputs": [],
   "source": [],
   "metadata": {
    "collapsed": false
   }
  },
  {
   "cell_type": "code",
   "execution_count": null,
   "outputs": [],
   "source": [],
   "metadata": {
    "collapsed": false
   }
  },
  {
   "cell_type": "code",
   "execution_count": null,
   "outputs": [],
   "source": [
    "import pandas as pd\n",
    "label_encoded_df = pd.get_dummies(blood, columns=[\"P1_PT_TYPE\"])\n",
    "\n",
    "correlations = blood.corr().abs().unstack()\n",
    "ad_correlations = correlations[\"P1_PT_TYPE\"].sort_values()\n",
    "print(ad_correlations.index[:100])"
   ],
   "metadata": {
    "collapsed": false
   }
  },
  {
   "cell_type": "code",
   "execution_count": null,
   "outputs": [],
   "source": [],
   "metadata": {
    "collapsed": false
   }
  }
 ],
 "metadata": {
  "kernelspec": {
   "display_name": "Python 3 (ipykernel)",
   "language": "python",
   "name": "python3"
  },
  "language_info": {
   "codemirror_mode": {
    "name": "ipython",
    "version": 3
   },
   "file_extension": ".py",
   "mimetype": "text/x-python",
   "name": "python",
   "nbconvert_exporter": "python",
   "pygments_lexer": "ipython3",
   "version": "3.11.2"
  }
 },
 "nbformat": 4,
 "nbformat_minor": 1
}
