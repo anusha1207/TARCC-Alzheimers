{
 "cells": [
  {
   "cell_type": "code",
   "execution_count": null,
   "outputs": [],
   "source": [
    "%reload_ext autoreload\n",
    "%autoreload 2\n",
    "\n",
    "import pickle\n",
    "\n",
    "from utils.utils import split_csv\n",
    "\n",
    "from preprocessing.cleaning import get_cleaned_data\n",
    "from preprocessing.encoding import encode_data\n",
    "\n",
    "from exploration.data_correlations import plot_correlations\n",
    "from exploration.data_statistics import plot_labels_pie_chart, plot_blood_draw_statistics\n",
    "from exploration.feature_selection_plots import plot_mrmr_and_rf\n",
    "from exploration.midterm_exploration import plot_feature_against_diagnosis\n",
    "\n",
    "\n",
    "from modeling.mrmr_feature_selection import plot_cutoffs\n",
    "from modeling.logistic import run_elastic_net, evaluate_results\n",
    "from modeling.RandomForest import run_random_forest, evaluate_random_forest\n",
    "from modeling.mlp import run_mlp, evaluate_mlp\n",
    "from modeling.comparisons import plot_f1_scores, plot_mci_f1_scores"
   ],
   "metadata": {
    "collapsed": false
   }
  },
  {
   "cell_type": "markdown",
   "metadata": {},
   "source": [
    "## Constants for the label"
   ]
  },
  {
   "cell_type": "code",
   "execution_count": null,
   "metadata": {
    "ExecuteTime": {
     "start_time": "2023-04-24T16:49:01.208092Z",
     "end_time": "2023-04-24T16:49:01.393561Z"
    }
   },
   "outputs": [],
   "source": [
    "LABEL = \"P1_PT_TYPE\"\n",
    "AD = 1\n",
    "CN = 2\n",
    "MCI = 4"
   ]
  },
  {
   "cell_type": "markdown",
   "metadata": {},
   "source": [
    "## Clean, encode, and partition the data into blood, clinical, and combined dataframes"
   ]
  },
  {
   "cell_type": "code",
   "execution_count": null,
   "metadata": {
    "ExecuteTime": {
     "start_time": "2023-04-24T16:49:04.669226Z",
     "end_time": "2023-04-24T16:49:08.333027Z"
    }
   },
   "outputs": [],
   "source": [
    "df = encode_data(get_cleaned_data())\n",
    "combined, blood_only, clinical_only_mci = split_csv(df)\n",
    "clinical_only = clinical_only_mci[clinical_only_mci[LABEL] != MCI]"
   ]
  },
  {
   "cell_type": "markdown",
   "metadata": {},
   "source": [
    "## Plot some initial exploratory visualizations"
   ]
  },
  {
   "cell_type": "code",
   "execution_count": null,
   "metadata": {
    "ExecuteTime": {
     "start_time": "2023-04-24T16:49:12.266487Z",
     "end_time": "2023-04-24T16:49:12.377057Z"
    }
   },
   "outputs": [],
   "source": [
    "plot_labels_pie_chart(df)"
   ]
  },
  {
   "cell_type": "code",
   "execution_count": null,
   "metadata": {
    "ExecuteTime": {
     "start_time": "2023-04-24T16:49:15.584499Z",
     "end_time": "2023-04-24T16:49:15.668768Z"
    }
   },
   "outputs": [],
   "source": [
    "plot_blood_draw_statistics(df)"
   ]
  },
  {
   "cell_type": "code",
   "execution_count": null,
   "metadata": {
    "ExecuteTime": {
     "start_time": "2023-04-24T16:49:17.524959Z",
     "end_time": "2023-04-24T16:49:20.552872Z"
    }
   },
   "outputs": [],
   "source": [
    "plot_correlations(df)"
   ]
  },
  {
   "cell_type": "code",
   "execution_count": null,
   "metadata": {
    "ExecuteTime": {
     "start_time": "2023-04-24T16:49:25.882032Z",
     "end_time": "2023-04-24T16:49:28.522954Z"
    }
   },
   "outputs": [],
   "source": [
    "plot_feature_against_diagnosis(\n",
    "    blood_only,\n",
    "    \"Q1_Total_tau\",\n",
    "    title=\"Total Tau Concentration by Diagnosis\",\n",
    "    ylabel=\"Total Tau Concentration (pg/mL)\",\n",
    "    png=\"Total Tau Concentration by Diagnosis\"\n",
    ")"
   ]
  },
  {
   "cell_type": "code",
   "execution_count": null,
   "metadata": {
    "ExecuteTime": {
     "start_time": "2023-04-24T16:49:30.832089Z",
     "end_time": "2023-04-24T16:49:33.396269Z"
    }
   },
   "outputs": [],
   "source": [
    "plot_feature_against_diagnosis(\n",
    "    clinical_only,\n",
    "    \"C1_WMSR_DIGTOT\",\n",
    "    title=\"WMSR Digit Span Score by Diagnosis\",\n",
    "    ylabel=\"WMSR Digit Span Score\",\n",
    "    png=\"WMSR Digit Span Score by Diagnosis\"\n",
    ")"
   ]
  },
  {
   "cell_type": "markdown",
   "metadata": {},
   "source": [
    "## Run MRMR feature selection to pick features for each of the partitions"
   ]
  },
  {
   "cell_type": "code",
   "execution_count": null,
   "metadata": {
    "ExecuteTime": {
     "start_time": "2023-04-24T17:04:37.365409Z",
     "end_time": "2023-04-24T17:04:58.346072Z"
    }
   },
   "outputs": [],
   "source": [
    "mrmr_output = plot_cutoffs(\n",
    "    blood_only,\n",
    "    clinical_only,\n",
    "    combined,\n",
    "    title=\"Number of Features vs. Cumulative Relevance\",\n",
    "    xlabel=\"Number of Features\",\n",
    "    ylabel=\"Cumulative Relevance\"\n",
    ")\n",
    "\n",
    "blood_features = mrmr_output[\"blood\"][\"features\"]\n",
    "clinical_features = mrmr_output[\"clinical\"][\"features\"]\n",
    "combined_features = mrmr_output[\"combined\"][\"features\"]\n",
    "\n",
    "blood_mrmr_scores = mrmr_output[\"blood\"][\"relevances\"]\n",
    "clinical_mrmr_scores = mrmr_output[\"clinical\"][\"relevances\"]\n",
    "combined_mrmr_scores = mrmr_output[\"combined\"][\"relevances\"]\n",
    "\n",
    "blood_only_subset = blood_only[blood_features + [LABEL]]\n",
    "clinical_only_subset = clinical_only[clinical_features + [LABEL]]\n",
    "combined_subset = combined[combined_features + [LABEL]]\n",
    "clinical_only_subset_mci = clinical_only_mci[clinical_features + [LABEL]]"
   ]
  },
  {
   "cell_type": "markdown",
   "metadata": {},
   "source": [
    "## Run logistic regression on the entire feature set"
   ]
  },
  {
   "cell_type": "code",
   "execution_count": null,
   "outputs": [],
   "source": [
    "run_elastic_net(blood_only, num_iters=20, pickle=\"Blood Only LR\")\n",
    "blood_lr = evaluate_results(\"Blood Only LR\")"
   ],
   "metadata": {
    "collapsed": false
   }
  },
  {
   "cell_type": "code",
   "execution_count": null,
   "metadata": {
    "ExecuteTime": {
     "start_time": "2023-04-12T14:26:34.006209Z",
     "end_time": "2023-04-12T14:27:37.961592Z"
    }
   },
   "outputs": [],
   "source": [
    "run_elastic_net(clinical_only, num_iters=20, pickle=\"Clinical Only LR\")\n",
    "clinical_lr = evaluate_results(\"Clinical Only LR\")"
   ]
  },
  {
   "cell_type": "code",
   "execution_count": null,
   "metadata": {
    "ExecuteTime": {
     "start_time": "2023-04-12T14:27:37.960690Z",
     "end_time": "2023-04-12T14:28:39.390729Z"
    }
   },
   "outputs": [],
   "source": [
    "run_elastic_net(combined, num_iters=20, pickle=\"Combined LR\")\n",
    "combined_lr = evaluate_results(\"Combined LR\")"
   ]
  },
  {
   "cell_type": "markdown",
   "metadata": {},
   "source": [
    "## Run logistic regression on the features selected by MRMR"
   ]
  },
  {
   "cell_type": "code",
   "execution_count": null,
   "metadata": {
    "ExecuteTime": {
     "start_time": "2023-04-12T14:28:39.403408Z",
     "end_time": "2023-04-12T14:28:42.852737Z"
    }
   },
   "outputs": [],
   "source": [
    "run_elastic_net(blood_only_subset, num_iters=20, pickle=\"Blood Only LR with MRMR\")\n",
    "blood_lr_mrmr = evaluate_results(\"Blood Only LR with MRMR\")"
   ]
  },
  {
   "cell_type": "code",
   "execution_count": null,
   "metadata": {
    "ExecuteTime": {
     "start_time": "2023-04-12T14:28:42.853232Z",
     "end_time": "2023-04-12T14:28:52.823294Z"
    }
   },
   "outputs": [],
   "source": [
    "run_elastic_net(clinical_only_subset, num_iters=20, pickle=\"Clinical Only LR with MRMR\")\n",
    "clinical_lr_mrmr = evaluate_results(\"Clinical Only LR with MRMR\")"
   ]
  },
  {
   "cell_type": "code",
   "execution_count": null,
   "metadata": {
    "ExecuteTime": {
     "start_time": "2023-04-12T14:28:52.831384Z",
     "end_time": "2023-04-12T14:28:54.996298Z"
    }
   },
   "outputs": [],
   "source": [
    "run_elastic_net(combined_subset, num_iters=20, pickle=\"Combined LR with MRMR\")\n",
    "combined_lr_mrmr = evaluate_results(\"Combined LR with MRMR\")"
   ]
  },
  {
   "cell_type": "markdown",
   "metadata": {},
   "source": [
    "## Run random forest"
   ]
  },
  {
   "cell_type": "code",
   "execution_count": null,
   "metadata": {
    "ExecuteTime": {
     "start_time": "2023-04-24T17:15:03.875113Z",
     "end_time": "2023-04-24T17:15:10.267516Z"
    }
   },
   "outputs": [],
   "source": [
    "run_random_forest(blood_only, num_iters=20, pickle=\"Blood Only RF\", blood=True)\n",
    "blood_rf = evaluate_random_forest(\"Blood Only RF\")"
   ]
  },
  {
   "cell_type": "code",
   "execution_count": null,
   "metadata": {
    "ExecuteTime": {
     "start_time": "2023-04-24T17:15:21.042834Z",
     "end_time": "2023-04-24T17:16:21.618271Z"
    }
   },
   "outputs": [],
   "source": [
    "run_random_forest(clinical_only, num_iters=20, pickle=\"Clinical Only RF\")\n",
    "clinical_rf = evaluate_random_forest(\"Clinical Only RF\")"
   ]
  },
  {
   "cell_type": "code",
   "execution_count": null,
   "metadata": {
    "ExecuteTime": {
     "start_time": "2023-04-24T17:17:06.909280Z",
     "end_time": "2023-04-24T17:17:18.511114Z"
    }
   },
   "outputs": [],
   "source": [
    "run_random_forest(combined, num_iters=20, pickle=\"Combined RF\")\n",
    "combined_rf = evaluate_random_forest(\"Combined RF\")"
   ]
  },
  {
   "cell_type": "markdown",
   "metadata": {},
   "source": [
    "## Run MLP on the entire feature set"
   ]
  },
  {
   "cell_type": "code",
   "execution_count": null,
   "metadata": {
    "ExecuteTime": {
     "start_time": "2023-04-12T14:47:38.841012Z",
     "end_time": "2023-04-12T14:48:04.213663Z"
    }
   },
   "outputs": [],
   "source": [
    "run_mlp(blood_only, num_iters=20, pickle=\"Blood Only MLP\")\n",
    "blood_mlp = evaluate_mlp(\"Blood Only MLP\")"
   ]
  },
  {
   "cell_type": "code",
   "execution_count": null,
   "metadata": {
    "ExecuteTime": {
     "start_time": "2023-04-12T14:48:04.213281Z",
     "end_time": "2023-04-12T14:50:24.634122Z"
    }
   },
   "outputs": [],
   "source": [
    "run_mlp(clinical_only, num_iters=20, pickle=\"Clinical Only MLP\")\n",
    "clinical_mlp = evaluate_mlp(\"Clinical Only MLP\")"
   ]
  },
  {
   "cell_type": "code",
   "execution_count": null,
   "metadata": {
    "ExecuteTime": {
     "start_time": "2023-04-12T14:50:24.647993Z",
     "end_time": "2023-04-12T14:51:53.022017Z"
    }
   },
   "outputs": [],
   "source": [
    "run_mlp(combined, num_iters=20, pickle=\"Combined MLP\")\n",
    "combined_mlp = evaluate_mlp(\"Combined MLP\")"
   ]
  },
  {
   "cell_type": "markdown",
   "metadata": {},
   "source": [
    "## Run MLP on the features selected by MRMR"
   ]
  },
  {
   "cell_type": "code",
   "execution_count": null,
   "metadata": {
    "ExecuteTime": {
     "start_time": "2023-04-12T14:51:53.045463Z",
     "end_time": "2023-04-12T14:51:56.818367Z"
    }
   },
   "outputs": [],
   "source": [
    "run_mlp(blood_only_subset, num_iters=20, pickle=\"Blood Only MLP with MRMR\")\n",
    "blood_mlp_mrmr = evaluate_mlp(\"Blood Only MLP with MRMR\")"
   ]
  },
  {
   "cell_type": "code",
   "execution_count": null,
   "metadata": {
    "ExecuteTime": {
     "start_time": "2023-04-12T14:51:56.818455Z",
     "end_time": "2023-04-12T14:52:25.187926Z"
    }
   },
   "outputs": [],
   "source": [
    "run_mlp(clinical_only_subset, num_iters=20, pickle=\"Clinical Only MLP with MRMR\")\n",
    "clinical_mlp_mrmr = evaluate_mlp(\"Clinical Only MLP with MRMR\")"
   ]
  },
  {
   "cell_type": "code",
   "execution_count": null,
   "metadata": {
    "ExecuteTime": {
     "start_time": "2023-04-12T14:52:25.181568Z",
     "end_time": "2023-04-12T14:52:27.529612Z"
    }
   },
   "outputs": [],
   "source": [
    "run_mlp(combined_subset, num_iters=20, pickle=\"Combined MLP with MRMR\")\n",
    "combined_mlp_mrmr = evaluate_mlp(\"Combined MLP with MRMR\")"
   ]
  },
  {
   "cell_type": "markdown",
   "source": [
    "## Store the model results"
   ],
   "metadata": {
    "collapsed": false
   }
  },
  {
   "cell_type": "code",
   "execution_count": null,
   "outputs": [],
   "source": [
    "model_results = {\n",
    "    \"blood_lr\": blood_lr,\n",
    "    \"clinical_lr\": clinical_lr,\n",
    "    \"combined_lr\": combined_lr,\n",
    "    \"blood_lr_mrmr\": blood_lr_mrmr,\n",
    "    \"clinical_lr_mrmr\": clinical_lr_mrmr,\n",
    "    \"combined_lr_mrmr\": combined_lr_mrmr,\n",
    "    \"blood_rf\": blood_rf,\n",
    "    \"clinical_rf\": clinical_rf,\n",
    "    \"combined_rf\": combined_rf,\n",
    "    \"blood_mlp\": blood_mlp,\n",
    "    \"clinical_mlp\": clinical_mlp_mrmr,\n",
    "    \"combined_mlp\": combined_mlp,\n",
    "    \"blood_mlp_mrmr\": blood_mlp_mrmr,\n",
    "    \"clinical_mlp_mrmr\": clinical_mlp_mrmr,\n",
    "    \"combined_mlp_mrmr\": combined_mlp_mrmr\n",
    "}\n",
    "\n",
    "with open(\"Model Results.pickle\", \"wb\") as handle:\n",
    "    pickle.dump(model_results, handle, protocol=pickle.HIGHEST_PROTOCOL)"
   ],
   "metadata": {
    "collapsed": false,
    "ExecuteTime": {
     "start_time": "2023-04-12T15:36:26.003598Z",
     "end_time": "2023-04-12T15:36:26.027720Z"
    }
   }
  },
  {
   "cell_type": "markdown",
   "source": [
    "## Read in the cached model results"
   ],
   "metadata": {
    "collapsed": false
   }
  },
  {
   "cell_type": "code",
   "execution_count": null,
   "outputs": [],
   "source": [
    "with open(\"Model Results.pickle\", \"rb\") as handle:\n",
    "    results = pickle.load(handle)"
   ],
   "metadata": {
    "collapsed": false,
    "ExecuteTime": {
     "start_time": "2023-04-24T17:17:32.704330Z",
     "end_time": "2023-04-24T17:17:32.738553Z"
    }
   }
  },
  {
   "cell_type": "markdown",
   "metadata": {},
   "source": [
    "## Compare models"
   ]
  },
  {
   "cell_type": "code",
   "execution_count": null,
   "metadata": {
    "ExecuteTime": {
     "start_time": "2023-04-14T15:50:01.600748Z",
     "end_time": "2023-04-14T15:50:03.507697Z"
    }
   },
   "outputs": [],
   "source": [
    "plot_f1_scores(\n",
    "    [\n",
    "        results[\"blood_lr_mrmr\"][\"f1\"],\n",
    "        results[\"clinical_lr_mrmr\"][\"f1\"],\n",
    "        results[\"combined_lr_mrmr\"][\"f1\"],\n",
    "        results[\"blood_rf\"][\"f1\"],\n",
    "        results[\"clinical_rf\"][\"f1\"],\n",
    "        results[\"combined_rf\"][\"f1\"],\n",
    "        results[\"blood_mlp_mrmr\"][\"f1\"],\n",
    "        results[\"clinical_mlp_mrmr\"][\"f1\"],\n",
    "        results[\"combined_mlp_mrmr\"][\"f1\"],\n",
    "    ],\n",
    "    title=\"Micro-F1 Scores For Top 3 Models\",\n",
    "    ylabel=\"Micro-F1 Score\",\n",
    "    models=[\"Logistic Regression\", \"Random Forest\", \"MLP\"],\n",
    "    pad=3\n",
    ")"
   ]
  },
  {
   "cell_type": "markdown",
   "source": [
    "## Plot feature importance scores from MRMR and random forest"
   ],
   "metadata": {
    "collapsed": false
   }
  },
  {
   "cell_type": "code",
   "execution_count": null,
   "outputs": [],
   "source": [
    "blood_rf_scores, blood_rf_features = results[\"blood_rf\"][\"importance\"], results[\"blood_rf\"][\"features\"]\n",
    "clinical_rf_scores, clinical_rf_features = results[\"clinical_rf\"][\"importance\"], results[\"clinical_rf\"][\"features\"]\n",
    "combined_rf_scores, combined_rf_features = results[\"combined_rf\"][\"importance\"], results[\"combined_rf\"][\"features\"]\n",
    "\n",
    "plot_mrmr_and_rf(blood_mrmr_scores, blood_rf_scores, blood_rf_features)\n",
    "plot_mrmr_and_rf(clinical_mrmr_scores, clinical_rf_scores, clinical_rf_features)\n",
    "plot_mrmr_and_rf(combined_mrmr_scores, combined_rf_scores, combined_rf_features)"
   ],
   "metadata": {
    "collapsed": false
   }
  },
  {
   "cell_type": "markdown",
   "source": [
    "## Run the same steps on the clinical data containing MCI patients"
   ],
   "metadata": {
    "collapsed": false
   }
  },
  {
   "cell_type": "code",
   "execution_count": null,
   "metadata": {
    "ExecuteTime": {
     "start_time": "2023-04-15T18:05:47.275573Z",
     "end_time": "2023-04-15T18:08:57.966873Z"
    }
   },
   "outputs": [],
   "source": [
    "run_elastic_net(clinical_only_subset_mci, num_iters=20, pickle=\"Clinical LR with MCI and MRMR\")\n",
    "clinical_lr_mci_mrmr = evaluate_results(\"Clinical LR with MCI and MRMR\")"
   ]
  },
  {
   "cell_type": "code",
   "execution_count": null,
   "outputs": [],
   "source": [
    "run_random_forest(clinical_only_mci, num_iters=20, pickle=\"Clinical RF with MCI\")\n",
    "clinical_rf_mrmr = evaluate_random_forest(\"Clinical RF with MCI\")"
   ],
   "metadata": {
    "collapsed": false,
    "ExecuteTime": {
     "start_time": "2023-04-15T18:15:55.620955Z",
     "end_time": "2023-04-15T18:44:10.701665Z"
    }
   }
  },
  {
   "cell_type": "code",
   "execution_count": null,
   "outputs": [],
   "source": [
    "run_mlp(clinical_only_subset_mci, num_iters=20, pickle=\"Clinical MLP with MCI and MRMR\")\n",
    "clinical_mlp_mci_mrmr = evaluate_mlp(\"Clinical MLP with MCI and MRMR\")"
   ],
   "metadata": {
    "collapsed": false,
    "ExecuteTime": {
     "start_time": "2023-04-15T18:13:44.447639Z",
     "end_time": "2023-04-15T18:15:22.376380Z"
    }
   }
  },
  {
   "cell_type": "code",
   "execution_count": null,
   "outputs": [],
   "source": [
    "mci_model_results = {\n",
    "    \"lr_mci\": clinical_lr_mci_mrmr,\n",
    "    \"rf\": clinical_rf_mrmr,\n",
    "    \"mlp_mci\": clinical_mlp_mci_mrmr\n",
    "}\n",
    "\n",
    "with open(\"MCI Model Results.pickle\", \"wb\") as handle:\n",
    "    pickle.dump(mci_model_results, handle, protocol=pickle.HIGHEST_PROTOCOL)"
   ],
   "metadata": {
    "collapsed": false,
    "ExecuteTime": {
     "start_time": "2023-04-15T18:45:22.804261Z",
     "end_time": "2023-04-15T18:45:22.862486Z"
    }
   }
  },
  {
   "cell_type": "code",
   "execution_count": null,
   "outputs": [],
   "source": [
    "with open(\"MCI Model Results.pickle\", \"rb\") as handle:\n",
    "    mci_results = pickle.load(handle)"
   ],
   "metadata": {
    "collapsed": false,
    "ExecuteTime": {
     "start_time": "2023-04-16T11:25:08.789085Z",
     "end_time": "2023-04-16T11:25:08.986353Z"
    }
   }
  },
  {
   "cell_type": "code",
   "execution_count": null,
   "outputs": [],
   "source": [
    "import matplotlib.pyplot as plt\n",
    "plt.rcParams[\"figure.dpi\"] = 1000\n",
    "plot_mci_f1_scores(\n",
    "    [\n",
    "        mci_results[\"lr_mci\"][\"f1\"],\n",
    "        mci_results[\"rf\"][\"f1\"],\n",
    "        mci_results[\"mlp_mci\"][\"f1\"]\n",
    "    ],\n",
    "    title=\"Micro-F1 Scores For Top 3 Models\",\n",
    "    ylabel=\"Micro-F1 Score\",\n",
    "    models=[\"Logistic Regression\", \"Random Forest\", \"MLP\"],\n",
    "    pad=1\n",
    ")"
   ],
   "metadata": {
    "collapsed": false,
    "ExecuteTime": {
     "start_time": "2023-04-15T18:49:27.187277Z",
     "end_time": "2023-04-15T18:49:28.960113Z"
    }
   }
  },
  {
   "cell_type": "code",
   "execution_count": null,
   "outputs": [],
   "source": [
    "with open(\"Clinical LR with MCI and MRMR.pickle\", \"rb\") as handle:\n",
    "    m = pickle.load(handle)"
   ],
   "metadata": {
    "collapsed": false,
    "ExecuteTime": {
     "start_time": "2023-04-16T11:25:13.190216Z",
     "end_time": "2023-04-16T11:25:13.241390Z"
    }
   }
  },
  {
   "cell_type": "code",
   "execution_count": null,
   "outputs": [],
   "source": [
    "import matplotlib.pyplot as plt\n",
    "import numpy as np\n",
    "from sklearn.metrics import ConfusionMatrixDisplay\n",
    "plt.rcParams[\"figure.dpi\"] = 800\n",
    "cm = mci_results[\"rf\"][\"confusion\"][0]\n",
    "plt.rc(\"font\", size=18)\n",
    "display = ConfusionMatrixDisplay(confusion_matrix=cm, display_labels=[\"AD\", \"CN\", \"MCI\"])\n",
    "display.plot()\n",
    "display.ax_.set_title(\"Confusion Matrix for RF Model\")"
   ],
   "metadata": {
    "collapsed": false,
    "ExecuteTime": {
     "start_time": "2023-04-16T11:28:07.897805Z",
     "end_time": "2023-04-16T11:28:09.539790Z"
    }
   }
  },
  {
   "cell_type": "code",
   "execution_count": null,
   "outputs": [],
   "source": [
    "\n",
    "m[\"testing_data\"][0][1].value_counts()"
   ],
   "metadata": {
    "collapsed": false,
    "ExecuteTime": {
     "start_time": "2023-04-16T11:09:17.118480Z",
     "end_time": "2023-04-16T11:09:17.150890Z"
    }
   }
  },
  {
   "cell_type": "code",
   "execution_count": null,
   "outputs": [],
   "source": [
    "total = np.zeros((3, 3))\n",
    "for i in range(20):\n",
    "    total += mci_results[\"rf\"][\"confusion\"][i] / np.sum(mci_results[\"lr_mci\"][\"confusion\"][i])\n",
    "total / 20"
   ],
   "metadata": {
    "collapsed": false,
    "ExecuteTime": {
     "start_time": "2023-04-15T19:03:18.821288Z",
     "end_time": "2023-04-15T19:03:18.906739Z"
    }
   }
  },
  {
   "cell_type": "code",
   "execution_count": null,
   "outputs": [],
   "source": [
    "total = np.zeros((3, 3))\n",
    "for i in range(20):\n",
    "    total += mci_results[\"mlp_mci\"][\"confusion\"][i] / np.sum(mci_results[\"lr_mci\"][\"confusion\"][i])\n",
    "total / 20"
   ],
   "metadata": {
    "collapsed": false,
    "ExecuteTime": {
     "start_time": "2023-04-15T19:03:22.648599Z",
     "end_time": "2023-04-15T19:03:22.746411Z"
    }
   }
  },
  {
   "cell_type": "code",
   "execution_count": null,
   "outputs": [],
   "source": [
    "clinical_only_subset_mci[\"P1_PT_TYPE\"].value_counts()"
   ],
   "metadata": {
    "collapsed": false,
    "ExecuteTime": {
     "start_time": "2023-04-16T10:28:30.521749Z",
     "end_time": "2023-04-16T10:28:30.544145Z"
    }
   }
  },
  {
   "cell_type": "code",
   "execution_count": null,
   "outputs": [],
   "source": [],
   "metadata": {
    "collapsed": false
   }
  }
 ],
 "metadata": {
  "kernelspec": {
   "display_name": "Python 3 (ipykernel)",
   "language": "python",
   "name": "python3"
  },
  "language_info": {
   "codemirror_mode": {
    "name": "ipython",
    "version": 3
   },
   "file_extension": ".py",
   "mimetype": "text/x-python",
   "name": "python",
   "nbconvert_exporter": "python",
   "pygments_lexer": "ipython3",
   "version": "3.11.1"
  }
 },
 "nbformat": 4,
 "nbformat_minor": 1
}
