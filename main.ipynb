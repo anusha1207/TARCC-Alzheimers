{
 "cells": [
  {
   "cell_type": "code",
   "execution_count": 5,
   "metadata": {
    "collapsed": true
   },
   "outputs": [],
   "source": [
    "# TODO: Convert datastats file to a bunch of functions; import/call them here.\n",
    "from preprocessing.data_cleaning import get_cleaned_data\n",
    "from exploration.data_correlations import plot_correlations"
   ]
  },
  {
   "cell_type": "code",
   "execution_count": 8,
   "metadata": {
    "collapsed": false
   },
   "outputs": [
    {
     "name": "stderr",
     "output_type": "stream",
     "text": [
      "WARNING:root:Key A1_HISPANIC_TYPE is missing from the dataframe.\n",
      "WARNING:root:Key A1_RACESEC is missing from the dataframe.\n",
      "WARNING:root:Key A1_RACETER is missing from the dataframe.\n",
      "WARNING:root:Key A1_PRIMLANG is missing from the dataframe.\n",
      "WARNING:root:Key A1_EDUC is missing from the dataframe.\n",
      "WARNING:root:Key A1_LIVSIT is missing from the dataframe.\n",
      "WARNING:root:Key A1_INDEPEND is missing from the dataframe.\n",
      "WARNING:root:Key A1_RESIDENC is missing from the dataframe.\n",
      "WARNING:root:Key A1_HANDEDNESS is missing from the dataframe.\n",
      "WARNING:root:Key A1_REFER is missing from the dataframe.\n",
      "WARNING:root:Key A3_MOMDEM is missing from the dataframe.\n",
      "WARNING:root:Key A3_DADDEM is missing from the dataframe.\n",
      "WARNING:root:Key A3_TWIN is missing from the dataframe.\n",
      "WARNING:root:Key A3_SIBS is missing from the dataframe.\n",
      "WARNING:root:Key A3_SIBSDEM is missing from the dataframe.\n",
      "WARNING:root:Key A3_KIDS is missing from the dataframe.\n",
      "WARNING:root:Key A3_KIDSDEM is missing from the dataframe.\n",
      "WARNING:root:Key A41_PMASTDA is missing from the dataframe.\n",
      "WARNING:root:Key A41_PMASTMO is missing from the dataframe.\n",
      "WARNING:root:Key A41_PMASTYR is missing from the dataframe.\n",
      "WARNING:root:Key A41_PMBSTDA is missing from the dataframe.\n",
      "WARNING:root:Key A41_PMBSTMO is missing from the dataframe.\n",
      "WARNING:root:Key A41_PMBSTYR is missing from the dataframe.\n",
      "WARNING:root:Key A41_PMCSTDA is missing from the dataframe.\n",
      "WARNING:root:Key A41_PMCSTMO is missing from the dataframe.\n",
      "WARNING:root:Key A41_PMCSTYR is missing from the dataframe.\n",
      "WARNING:root:Key A41_PMDSTDA is missing from the dataframe.\n",
      "WARNING:root:Key A41_PMDSTMO is missing from the dataframe.\n",
      "WARNING:root:Key A41_PMDSTYR is missing from the dataframe.\n",
      "WARNING:root:Key A42_VEASTMO is missing from the dataframe.\n",
      "WARNING:root:Key A42_VEASTDA is missing from the dataframe.\n",
      "WARNING:root:Key A42_VEASTYR is missing from the dataframe.\n",
      "WARNING:root:Key A42_VEAENDMO is missing from the dataframe.\n",
      "WARNING:root:Key A42_VEAENDDA is missing from the dataframe.\n",
      "WARNING:root:Key A42_VEAENDYR is missing from the dataframe.\n",
      "WARNING:root:Key A42_VEBSTMO is missing from the dataframe.\n",
      "WARNING:root:Key A42_VEBSTDA is missing from the dataframe.\n",
      "WARNING:root:Key A42_VEBSTYR is missing from the dataframe.\n",
      "WARNING:root:Key A42_VEBENDMO is missing from the dataframe.\n",
      "WARNING:root:Key A42_VEBENDDA is missing from the dataframe.\n",
      "WARNING:root:Key A42_VEBENDYR is missing from the dataframe.\n",
      "WARNING:root:Key A42_VECSTMO is missing from the dataframe.\n",
      "WARNING:root:Key A42_VECSTDA is missing from the dataframe.\n",
      "WARNING:root:Key A42_VECSTYR is missing from the dataframe.\n",
      "WARNING:root:Key A42_VECENDMO is missing from the dataframe.\n",
      "WARNING:root:Key A42_VECENDDA is missing from the dataframe.\n",
      "WARNING:root:Key A42_VECENDYR is missing from the dataframe.\n",
      "WARNING:root:Key A42_VEDSTMO is missing from the dataframe.\n",
      "WARNING:root:Key A42_VEDSTDA is missing from the dataframe.\n",
      "WARNING:root:Key A42_VEDSTYR is missing from the dataframe.\n",
      "WARNING:root:Key A42_VEDENDMO is missing from the dataframe.\n",
      "WARNING:root:Key A42_VEDENDDA is missing from the dataframe.\n",
      "WARNING:root:Key A42_VEDENDYR is missing from the dataframe.\n",
      "WARNING:root:Key A43_ADASTMO is missing from the dataframe.\n",
      "WARNING:root:Key A43_ADASTDA is missing from the dataframe.\n",
      "WARNING:root:Key A43_ADASTYR is missing from the dataframe.\n",
      "WARNING:root:Key A43_ADAENDMO is missing from the dataframe.\n",
      "WARNING:root:Key A43_ADAENDDA is missing from the dataframe.\n",
      "WARNING:root:Key A43_ADAENDYR is missing from the dataframe.\n",
      "WARNING:root:Key A43_ADBSTMO is missing from the dataframe.\n",
      "WARNING:root:Key A43_ADBSTDA is missing from the dataframe.\n",
      "WARNING:root:Key A43_ADBSTYR is missing from the dataframe.\n",
      "WARNING:root:Key A43_ADBENDMO is missing from the dataframe.\n",
      "WARNING:root:Key A43_ADBENDDA is missing from the dataframe.\n",
      "WARNING:root:Key A43_ADBENDYR is missing from the dataframe.\n",
      "WARNING:root:Key A43_ADCSTMO is missing from the dataframe.\n",
      "WARNING:root:Key A43_ADCSTDA is missing from the dataframe.\n",
      "WARNING:root:Key A43_ADCSTYR is missing from the dataframe.\n",
      "WARNING:root:Key A43_ADCENDMO is missing from the dataframe.\n",
      "WARNING:root:Key A43_ADCENDDA is missing from the dataframe.\n",
      "WARNING:root:Key A43_ADCENDYR is missing from the dataframe.\n",
      "WARNING:root:Key A43_ADDSTMO is missing from the dataframe.\n",
      "WARNING:root:Key A43_ADDSTDA is missing from the dataframe.\n",
      "WARNING:root:Key A43_ADDSTYR is missing from the dataframe.\n",
      "WARNING:root:Key A43_ADDENDMO is missing from the dataframe.\n",
      "WARNING:root:Key A43_ADDENDDA is missing from the dataframe.\n",
      "WARNING:root:Key A43_ADDENDYR is missing from the dataframe.\n",
      "WARNING:root:Key A43_ADESTMO is missing from the dataframe.\n",
      "WARNING:root:Key A43_ADESTDA is missing from the dataframe.\n",
      "WARNING:root:Key A43_ADESTYR is missing from the dataframe.\n",
      "WARNING:root:Key A43_ADEENDMO is missing from the dataframe.\n",
      "WARNING:root:Key A43_ADEENDDA is missing from the dataframe.\n",
      "WARNING:root:Key A43_ADEENDYR is missing from the dataframe.\n",
      "WARNING:root:Key A43_ADFSTMO is missing from the dataframe.\n",
      "WARNING:root:Key A43_ADFSTDA is missing from the dataframe.\n",
      "WARNING:root:Key A43_ADFSTYR is missing from the dataframe.\n",
      "WARNING:root:Key A43_ADFENDMO is missing from the dataframe.\n",
      "WARNING:root:Key A43_ADFENDDA is missing from the dataframe.\n",
      "WARNING:root:Key A43_ADFENDYR is missing from the dataframe.\n",
      "WARNING:root:Key A44_SSASTMO is missing from the dataframe.\n",
      "WARNING:root:Key A44_SSASTDA is missing from the dataframe.\n",
      "WARNING:root:Key A44_SSASTYR is missing from the dataframe.\n",
      "WARNING:root:Key A44_SSBSTMO is missing from the dataframe.\n",
      "WARNING:root:Key A44_SSBSTDA is missing from the dataframe.\n",
      "WARNING:root:Key A44_SSBSTYR is missing from the dataframe.\n",
      "WARNING:root:Key A44_SSCSTMO is missing from the dataframe.\n",
      "WARNING:root:Key A44_SSCSTDA is missing from the dataframe.\n",
      "WARNING:root:Key A44_SSCSTYR is missing from the dataframe.\n",
      "WARNING:root:Key A44_SSDSTMO is missing from the dataframe.\n",
      "WARNING:root:Key A44_SSDSTDA is missing from the dataframe.\n",
      "WARNING:root:Key A44_SSDSTYR is missing from the dataframe.\n",
      "WARNING:root:Key A44_SSESTMO is missing from the dataframe.\n",
      "WARNING:root:Key A44_SSESTDA is missing from the dataframe.\n",
      "WARNING:root:Key A44_SSESTYR is missing from the dataframe.\n",
      "WARNING:root:Key A44_SSFSTMO is missing from the dataframe.\n",
      "WARNING:root:Key A44_SSFSTDA is missing from the dataframe.\n",
      "WARNING:root:Key A44_SSFSTYR is missing from the dataframe.\n",
      "WARNING:root:Key A44_DRG_TRIAL is missing from the dataframe.\n",
      "WARNING:root:Key C1_AMNART is missing from the dataframe.\n",
      "WARNING:root:Key C1_WAT is missing from the dataframe.\n",
      "WARNING:root:Key X1_DECLINEAGEPHY is missing from the dataframe.\n",
      "WARNING:root:Key X1_DECLINEAGE is missing from the dataframe.\n",
      "WARNING:root:Key X1_PHYESTDUR is missing from the dataframe.\n"
     ]
    }
   ],
   "source": [
    "df = get_cleaned_data()\n"
   ]
  },
  {
   "cell_type": "code",
   "execution_count": 9,
   "metadata": {
    "collapsed": false
   },
   "outputs": [
    {
     "data": {
      "text/plain": [
       "51002220    13\n",
       "51002377    12\n",
       "51002233    12\n",
       "51002024    12\n",
       "51002376    12\n",
       "            ..\n",
       "55000265     1\n",
       "55000255     1\n",
       "55000247     1\n",
       "55000239     1\n",
       "81200235     1\n",
       "Name: PATID, Length: 3670, dtype: int64"
      ]
     },
     "execution_count": 9,
     "metadata": {},
     "output_type": "execute_result"
    }
   ],
   "source": []
  },
  {
   "cell_type": "code",
   "execution_count": null,
   "metadata": {
    "collapsed": false
   },
   "outputs": [],
   "source": [
    "plot_correlations()"
   ]
  }
 ],
 "metadata": {
  "kernelspec": {
   "display_name": "Python 3",
   "language": "python",
   "name": "python3"
  },
  "language_info": {
   "codemirror_mode": {
    "name": "ipython",
    "version": 2
   },
   "file_extension": ".py",
   "mimetype": "text/x-python",
   "name": "python",
   "nbconvert_exporter": "python",
   "pygments_lexer": "ipython2",
   "version": "2.7.6"
  }
 },
 "nbformat": 4,
 "nbformat_minor": 0
}
