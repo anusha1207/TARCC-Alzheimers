{
 "cells": [
  {
   "cell_type": "code",
   "execution_count": null,
   "metadata": {},
   "outputs": [],
   "source": [
    "from preprocessing.data_cleaning import get_cleaned_data, split_csv, get_features_label\n",
    "from preprocessing.encoding import encode_data\n",
    "from exploration.data_correlations import plot_correlations\n",
    "from exploration.data_statistics import plot_patientwise_errors, plot_labels_pie_chart, plot_blood_draw_statistics\n",
    "from exploration.midterm_exploration import plot_feature_against_diagnosis\n",
    "from utils.utils import log_features\n",
    "from modeling.mrmr import perform_mrmr"
   ]
  },
  {
   "cell_type": "code",
   "execution_count": null,
   "metadata": {},
   "outputs": [],
   "source": [
    "df = encode_data(get_cleaned_data())\n",
    "df = df[df[\"P1_PT_TYPE\"] != 3]\n",
    "log_features(df)\n",
    "blood, clinical = split_csv(df)"
   ]
  },
  {
   "cell_type": "code",
   "execution_count": null,
   "metadata": {},
   "outputs": [],
   "source": [
    "plot_patientwise_errors(\n",
    "    df,\n",
    "    [\"C1_WAIS3_DIGTOT\", \"B1_BMI\", \"RBM_Insulin\"],\n",
    "    [\"Race\", \"WAIS3 Digits Score\", \"BMI\", \"Insulin\"],\n",
    "    png=\"Patientwise Errors\"\n",
    ")"
   ]
  },
  {
   "cell_type": "code",
   "execution_count": null,
   "metadata": {},
   "outputs": [],
   "source": [
    "plot_labels_pie_chart(df, png=\"Pie Chart of Diagnoses\")"
   ]
  },
  {
   "cell_type": "code",
   "execution_count": null,
   "metadata": {},
   "outputs": [],
   "source": [
    "plot_blood_draw_statistics(df, png=\"Blood Draw Proportions\")"
   ]
  },
  {
   "cell_type": "code",
   "execution_count": null,
   "metadata": {},
   "outputs": [],
   "source": [
    "plot_correlations(df)"
   ]
  },
  {
   "cell_type": "code",
   "execution_count": null,
   "metadata": {},
   "outputs": [],
   "source": [
    "import pandas as pd\n",
    "\n",
    "y, X = get_features_label(df)\n",
    "y = pd.Series(y)\n",
    "features = perform_mrmr(X, y, 10)"
   ]
  },
  {
   "cell_type": "code",
   "execution_count": null,
   "outputs": [],
   "source": [
    "plot_feature_against_diagnosis(\n",
    "    blood,\n",
    "    \"Q1_Total_tau\",\n",
    "    title=\"Total Tau Concentration by Diagnosis\",\n",
    "    ylabel=\"Total Tau Concentration (pg/mL)\",\n",
    "    png=\"Total Tau Concentration by Diagnosis\"\n",
    ")"
   ],
   "metadata": {
    "collapsed": false
   }
  },
  {
   "cell_type": "code",
   "execution_count": null,
   "outputs": [],
   "source": [
    "plot_feature_against_diagnosis(\n",
    "    clinical,\n",
    "    \"C1_MMSE\",\n",
    "    title=\"MMSE Score by Diagnosis\",\n",
    "    ylabel=\"MMSE Score\",\n",
    "    png=\"MMSE Score by Diagnosis\"\n",
    ")"
   ],
   "metadata": {
    "collapsed": false
   }
  },
  {
   "cell_type": "code",
   "execution_count": null,
   "outputs": [],
   "source": [
    "plot_feature_against_diagnosis(\n",
    "    clinical,\n",
    "    \"C1_WMSR_DIGTOT\",\n",
    "    title=\"WMSR Digit Span Score by Diagnosis\",\n",
    "    ylabel=\"WMSR Digit Span Score\",\n",
    "    png=\"WMSR Digit Span Score by Diagnosis\"\n",
    ")"
   ],
   "metadata": {
    "collapsed": false
   }
  },
  {
   "cell_type": "code",
   "execution_count": null,
   "outputs": [],
   "source": [
    "plot_feature_against_diagnosis(\n",
    "    clinical,\n",
    "    \"C1_CDRSUM\",\n",
    "    title=\"CDR Score by Diagnosis\",\n",
    "    ylabel=\"CDR Score\",\n",
    "    png=\"CDR Score by Diagnosis\"\n",
    ")\n",
    "\n",
    "temp = clinical[clinical[\"P1_PT_TYPE\"] == 2]\n",
    "temp[\"C1_CDRSUM\"].value_counts()"
   ],
   "metadata": {
    "collapsed": false
   }
  },
  {
   "cell_type": "code",
   "execution_count": null,
   "outputs": [],
   "source": [
    "import pandas as pd\n",
    "label_encoded_df = pd.get_dummies(blood, columns=[\"P1_PT_TYPE\"])\n",
    "\n",
    "correlations = blood.corr().abs().unstack()\n",
    "ad_correlations = correlations[\"P1_PT_TYPE\"].sort_values()\n",
    "print(ad_correlations.index[:100])"
   ],
   "metadata": {
    "collapsed": false
   }
  }
 ],
 "metadata": {
  "kernelspec": {
   "display_name": "Python 3 (ipykernel)",
   "language": "python",
   "name": "python3"
  },
  "language_info": {
   "codemirror_mode": {
    "name": "ipython",
    "version": 3
   },
   "file_extension": ".py",
   "mimetype": "text/x-python",
   "name": "python",
   "nbconvert_exporter": "python",
   "pygments_lexer": "ipython3",
   "version": "3.11.2"
  }
 },
 "nbformat": 4,
 "nbformat_minor": 1
}
