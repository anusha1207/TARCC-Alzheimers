{
 "cells": [
  {
   "cell_type": "code",
   "execution_count": 2,
   "metadata": {
    "ExecuteTime": {
     "start_time": "2023-04-13T18:36:23.907547Z",
     "end_time": "2023-04-13T18:36:24.114393Z"
    },
    "collapsed": true
   },
   "outputs": [],
   "source": [
    "%reload_ext autoreload\n",
    "%autoreload 2\n",
    "\n",
    "import pickle\n",
    "\n",
    "from utils.utils import split_csv\n",
    "\n",
    "from preprocessing.cleaning import get_cleaned_data\n",
    "from preprocessing.encoding import encode_data\n",
    "\n",
    "from exploration.data_correlations import plot_correlations\n",
    "from exploration.data_statistics import plot_labels_pie_chart, plot_blood_draw_statistics\n",
    "from exploration.midterm_exploration import plot_feature_against_diagnosis\n",
    "\n",
    "from modeling.mrmr_feature_selection import plot_cutoffs\n",
    "from modeling.logistic import run_elastic_net, evaluate_results\n",
    "from modeling.RandomForest import run_random_forest, evaluate_random_forest\n",
    "from modeling.mlp import run_mlp, evaluate_mlp\n",
    "from modeling.comparisons import plot_f1_scores"
   ]
  },
  {
   "cell_type": "markdown",
   "metadata": {},
   "source": [
    "## Constants for the label"
   ]
  },
  {
   "cell_type": "code",
   "execution_count": 3,
   "metadata": {
    "ExecuteTime": {
     "start_time": "2023-04-13T18:36:38.119364Z",
     "end_time": "2023-04-13T18:36:38.157118Z"
    }
   },
   "outputs": [],
   "source": [
    "LABEL = \"P1_PT_TYPE\"\n",
    "AD = 1\n",
    "CN = 2\n",
    "MCI = 4"
   ]
  },
  {
   "cell_type": "markdown",
   "metadata": {},
   "source": [
    "## Clean, encode, and partition the data into blood, clinical, and combined dataframes"
   ]
  },
  {
   "cell_type": "code",
   "execution_count": null,
   "metadata": {
    "ExecuteTime": {
     "start_time": "2023-04-12T14:23:59.140075Z",
     "end_time": "2023-04-12T14:24:02.824272Z"
    }
   },
   "outputs": [],
   "source": [
    "df = encode_data(get_cleaned_data())\n",
    "combined, blood_only, clinical_only_mci = split_csv(df)\n",
    "clinical_only = clinical_only_mci[clinical_only_mci[LABEL] != MCI]"
   ]
  },
  {
   "cell_type": "markdown",
   "metadata": {},
   "source": [
    "## Plot some initial exploratory visualizations"
   ]
  },
  {
   "cell_type": "code",
   "execution_count": null,
   "metadata": {
    "ExecuteTime": {
     "end_time": "2023-04-11T16:36:17.402678Z",
     "start_time": "2023-04-11T16:36:17.292165Z"
    }
   },
   "outputs": [],
   "source": [
    "plot_labels_pie_chart(df)"
   ]
  },
  {
   "cell_type": "code",
   "execution_count": null,
   "metadata": {
    "ExecuteTime": {
     "end_time": "2023-04-11T16:36:19.488248Z",
     "start_time": "2023-04-11T16:36:19.374886Z"
    }
   },
   "outputs": [],
   "source": [
    "plot_blood_draw_statistics(df)"
   ]
  },
  {
   "cell_type": "code",
   "execution_count": null,
   "metadata": {
    "ExecuteTime": {
     "end_time": "2023-04-11T16:36:24.792216Z",
     "start_time": "2023-04-11T16:36:20.386224Z"
    }
   },
   "outputs": [],
   "source": [
    "plot_correlations(df)"
   ]
  },
  {
   "cell_type": "code",
   "execution_count": null,
   "metadata": {
    "ExecuteTime": {
     "end_time": "2023-04-11T16:36:30.306950Z",
     "start_time": "2023-04-11T16:36:27.686793Z"
    }
   },
   "outputs": [],
   "source": [
    "plot_feature_against_diagnosis(\n",
    "    blood_only,\n",
    "    \"Q1_Total_tau\",\n",
    "    title=\"Total Tau Concentration by Diagnosis\",\n",
    "    ylabel=\"Total Tau Concentration (pg/mL)\",\n",
    "    png=\"Total Tau Concentration by Diagnosis\"\n",
    ")"
   ]
  },
  {
   "cell_type": "code",
   "execution_count": null,
   "metadata": {
    "ExecuteTime": {
     "end_time": "2023-04-11T16:36:34.626967Z",
     "start_time": "2023-04-11T16:36:32.093572Z"
    }
   },
   "outputs": [],
   "source": [
    "plot_feature_against_diagnosis(\n",
    "    clinical_only,\n",
    "    \"C1_WMSR_DIGTOT\",\n",
    "    title=\"WMSR Digit Span Score by Diagnosis\",\n",
    "    ylabel=\"WMSR Digit Span Score\",\n",
    "    png=\"WMSR Digit Span Score by Diagnosis\"\n",
    ")"
   ]
  },
  {
   "cell_type": "markdown",
   "metadata": {},
   "source": [
    "## Run MRMR feature selection to pick features for each of the partitions"
   ]
  },
  {
   "cell_type": "code",
   "execution_count": null,
   "metadata": {
    "ExecuteTime": {
     "start_time": "2023-04-12T14:24:02.824788Z",
     "end_time": "2023-04-12T14:24:23.879214Z"
    }
   },
   "outputs": [],
   "source": [
    "blood_features, clinical_features, combined_features = plot_cutoffs(blood_only, clinical_only, combined)\n",
    "blood_only_subset = blood_only[blood_features + [LABEL]]\n",
    "clinical_only_subset = clinical_only[clinical_features + [LABEL]]\n",
    "combined_subset = combined[combined_features + [LABEL]]\n",
    "clinical_only_subset_mci = clinical_only_mci[clinical_features + [LABEL]]"
   ]
  },
  {
   "cell_type": "markdown",
   "metadata": {},
   "source": [
    "## Run logistic regression on the entire feature set"
   ]
  },
  {
   "cell_type": "code",
   "execution_count": null,
   "metadata": {
    "ExecuteTime": {
     "start_time": "2023-04-12T14:26:01.191589Z",
     "end_time": "2023-04-12T14:26:34.003581Z"
    }
   },
   "outputs": [],
   "source": [
    "run_elastic_net(blood_only, num_iters=20, pickle=\"Blood Only LR\")\n",
    "blood_lr = evaluate_results(\"Blood Only LR\")"
   ]
  },
  {
   "cell_type": "code",
   "execution_count": null,
   "metadata": {
    "ExecuteTime": {
     "start_time": "2023-04-12T14:26:34.006209Z",
     "end_time": "2023-04-12T14:27:37.961592Z"
    }
   },
   "outputs": [],
   "source": [
    "run_elastic_net(clinical_only, num_iters=20, pickle=\"Clinical Only LR\")\n",
    "clinical_lr = evaluate_results(\"Clinical Only LR\")"
   ]
  },
  {
   "cell_type": "code",
   "execution_count": null,
   "metadata": {
    "ExecuteTime": {
     "start_time": "2023-04-12T14:27:37.960690Z",
     "end_time": "2023-04-12T14:28:39.390729Z"
    }
   },
   "outputs": [],
   "source": [
    "run_elastic_net(combined, num_iters=20, pickle=\"Combined LR\")\n",
    "combined_lr = evaluate_results(\"Combined LR\")"
   ]
  },
  {
   "cell_type": "markdown",
   "metadata": {},
   "source": [
    "## Run logistic regression on the features selected by MRMR"
   ]
  },
  {
   "cell_type": "code",
   "execution_count": null,
   "metadata": {
    "ExecuteTime": {
     "start_time": "2023-04-12T14:28:39.403408Z",
     "end_time": "2023-04-12T14:28:42.852737Z"
    }
   },
   "outputs": [],
   "source": [
    "run_elastic_net(blood_only_subset, num_iters=20, pickle=\"Blood Only LR with MRMR\")\n",
    "blood_lr_mrmr = evaluate_results(\"Blood Only LR with MRMR\")"
   ]
  },
  {
   "cell_type": "code",
   "execution_count": null,
   "metadata": {
    "ExecuteTime": {
     "start_time": "2023-04-12T14:28:42.853232Z",
     "end_time": "2023-04-12T14:28:52.823294Z"
    }
   },
   "outputs": [],
   "source": [
    "run_elastic_net(clinical_only_subset, num_iters=20, pickle=\"Clinical Only LR with MRMR\")\n",
    "clinical_lr_mrmr = evaluate_results(\"Clinical Only LR with MRMR\")"
   ]
  },
  {
   "cell_type": "code",
   "execution_count": null,
   "metadata": {
    "ExecuteTime": {
     "start_time": "2023-04-12T14:28:52.831384Z",
     "end_time": "2023-04-12T14:28:54.996298Z"
    }
   },
   "outputs": [],
   "source": [
    "run_elastic_net(combined_subset, num_iters=20, pickle=\"Combined LR with MRMR\")\n",
    "combined_lr_mrmr = evaluate_results(\"Combined LR with MRMR\")"
   ]
  },
  {
   "cell_type": "markdown",
   "metadata": {},
   "source": [
    "## Run random forest"
   ]
  },
  {
   "cell_type": "code",
   "execution_count": null,
   "metadata": {
    "ExecuteTime": {
     "start_time": "2023-04-12T14:28:54.996611Z",
     "end_time": "2023-04-12T14:30:53.651273Z"
    }
   },
   "outputs": [],
   "source": [
    "run_random_forest(blood_only, num_iters=20, pickle=\"Blood Only RF\", blood=True)\n",
    "blood_rf = evaluate_random_forest(\"Blood Only RF\")"
   ]
  },
  {
   "cell_type": "code",
   "execution_count": null,
   "metadata": {
    "ExecuteTime": {
     "start_time": "2023-04-12T14:30:53.651742Z",
     "end_time": "2023-04-12T14:43:53.578089Z"
    }
   },
   "outputs": [],
   "source": [
    "run_random_forest(clinical_only, num_iters=20, pickle=\"Clinical Only RF\")\n",
    "clinical_rf = evaluate_random_forest(\"Clinical Only RF\")"
   ]
  },
  {
   "cell_type": "code",
   "execution_count": null,
   "metadata": {
    "ExecuteTime": {
     "start_time": "2023-04-12T14:43:53.578788Z",
     "end_time": "2023-04-12T14:47:38.839177Z"
    }
   },
   "outputs": [],
   "source": [
    "run_random_forest(combined, num_iters=20, pickle=\"Combined RF\")\n",
    "combined_rf = evaluate_random_forest(\"Combined RF\")"
   ]
  },
  {
   "cell_type": "markdown",
   "metadata": {},
   "source": [
    "## Run MLP on the entire feature set"
   ]
  },
  {
   "cell_type": "code",
   "execution_count": null,
   "metadata": {
    "ExecuteTime": {
     "start_time": "2023-04-12T14:47:38.841012Z",
     "end_time": "2023-04-12T14:48:04.213663Z"
    }
   },
   "outputs": [],
   "source": [
    "run_mlp(blood_only, num_iters=20, pickle=\"Blood Only MLP\")\n",
    "blood_mlp = evaluate_mlp(\"Blood Only MLP\")"
   ]
  },
  {
   "cell_type": "code",
   "execution_count": null,
   "metadata": {
    "ExecuteTime": {
     "start_time": "2023-04-12T14:48:04.213281Z",
     "end_time": "2023-04-12T14:50:24.634122Z"
    }
   },
   "outputs": [],
   "source": [
    "run_mlp(clinical_only, num_iters=20, pickle=\"Clinical Only MLP\")\n",
    "clinical_mlp = evaluate_mlp(\"Clinical Only MLP\")"
   ]
  },
  {
   "cell_type": "code",
   "execution_count": null,
   "metadata": {
    "ExecuteTime": {
     "start_time": "2023-04-12T14:50:24.647993Z",
     "end_time": "2023-04-12T14:51:53.022017Z"
    }
   },
   "outputs": [],
   "source": [
    "run_mlp(combined, num_iters=20, pickle=\"Combined MLP\")\n",
    "combined_mlp = evaluate_mlp(\"Combined MLP\")"
   ]
  },
  {
   "cell_type": "markdown",
   "metadata": {},
   "source": [
    "## Run MLP on the features selected by MRMR"
   ]
  },
  {
   "cell_type": "code",
   "execution_count": null,
   "metadata": {
    "ExecuteTime": {
     "start_time": "2023-04-12T14:51:53.045463Z",
     "end_time": "2023-04-12T14:51:56.818367Z"
    }
   },
   "outputs": [],
   "source": [
    "run_mlp(blood_only_subset, num_iters=20, pickle=\"Blood Only MLP with MRMR\")\n",
    "blood_mlp_mrmr = evaluate_mlp(\"Blood Only MLP with MRMR\")"
   ]
  },
  {
   "cell_type": "code",
   "execution_count": null,
   "metadata": {
    "ExecuteTime": {
     "start_time": "2023-04-12T14:51:56.818455Z",
     "end_time": "2023-04-12T14:52:25.187926Z"
    }
   },
   "outputs": [],
   "source": [
    "run_mlp(clinical_only_subset, num_iters=20, pickle=\"Clinical Only MLP with MRMR\")\n",
    "clinical_mlp_mrmr = evaluate_mlp(\"Clinical Only MLP with MRMR\")"
   ]
  },
  {
   "cell_type": "code",
   "execution_count": null,
   "metadata": {
    "ExecuteTime": {
     "start_time": "2023-04-12T14:52:25.181568Z",
     "end_time": "2023-04-12T14:52:27.529612Z"
    }
   },
   "outputs": [],
   "source": [
    "run_mlp(combined_subset, num_iters=20, pickle=\"Combined MLP with MRMR\")\n",
    "combined_mlp_mrmr = evaluate_mlp(\"Combined MLP with MRMR\")"
   ]
  },
  {
   "cell_type": "markdown",
   "source": [
    "## Store the model results"
   ],
   "metadata": {
    "collapsed": false
   }
  },
  {
   "cell_type": "code",
   "execution_count": null,
   "outputs": [],
   "source": [
    "model_results = {\n",
    "    \"blood_lr\": blood_lr,\n",
    "    \"clinical_lr\": clinical_lr,\n",
    "    \"combined_lr\": combined_lr,\n",
    "    \"blood_lr_mrmr\": blood_lr_mrmr,\n",
    "    \"clinical_lr_mrmr\": clinical_lr_mrmr,\n",
    "    \"combined_lr_mrmr\": combined_lr_mrmr,\n",
    "    \"blood_rf\": blood_rf,\n",
    "    \"clinical_rf\": clinical_rf,\n",
    "    \"combined_rf\": combined_rf,\n",
    "    \"blood_mlp\": blood_mlp,\n",
    "    \"clinical_mlp\": clinical_mlp_mrmr,\n",
    "    \"combined_mlp\": combined_mlp,\n",
    "    \"blood_mlp_mrmr\": blood_mlp_mrmr,\n",
    "    \"clinical_mlp_mrmr\": clinical_mlp_mrmr,\n",
    "    \"combined_mlp_mrmr\": combined_mlp_mrmr\n",
    "}\n",
    "\n",
    "with open(\"Model Results.pickle\", \"wb\") as handle:\n",
    "    pickle.dump(model_results, handle, protocol=pickle.HIGHEST_PROTOCOL)"
   ],
   "metadata": {
    "collapsed": false,
    "ExecuteTime": {
     "start_time": "2023-04-12T15:36:26.003598Z",
     "end_time": "2023-04-12T15:36:26.027720Z"
    }
   }
  },
  {
   "cell_type": "markdown",
   "source": [
    "## Read in the cached model results"
   ],
   "metadata": {
    "collapsed": false
   }
  },
  {
   "cell_type": "code",
   "execution_count": 5,
   "outputs": [],
   "source": [
    "with open(\"Model Results.pickle\", \"rb\") as handle:\n",
    "    results = pickle.load(handle)"
   ],
   "metadata": {
    "collapsed": false,
    "ExecuteTime": {
     "start_time": "2023-04-13T18:36:42.074857Z",
     "end_time": "2023-04-13T18:36:42.116669Z"
    }
   }
  },
  {
   "cell_type": "markdown",
   "metadata": {},
   "source": [
    "## Compare models"
   ]
  },
  {
   "cell_type": "code",
   "execution_count": 6,
   "metadata": {
    "ExecuteTime": {
     "start_time": "2023-04-13T18:36:43.370792Z",
     "end_time": "2023-04-13T18:36:43.749883Z"
    }
   },
   "outputs": [
    {
     "data": {
      "text/plain": "<Figure size 640x480 with 1 Axes>",
      "image/png": "[encoded data removed]"
     },
     "metadata": {},
     "output_type": "display_data"
    }
   ],
   "source": [
    "plot_f1_scores(\n",
    "    [\n",
    "        results[\"blood_lr_mrmr\"][\"f1\"],\n",
    "        results[\"clinical_lr_mrmr\"][\"f1\"],\n",
    "        results[\"combined_lr_mrmr\"][\"f1\"],\n",
    "        results[\"blood_rf\"][\"f1\"],\n",
    "        results[\"clinical_rf\"][\"f1\"],\n",
    "        results[\"combined_rf\"][\"f1\"],\n",
    "        results[\"blood_mlp_mrmr\"][\"f1\"],\n",
    "        results[\"clinical_mlp_mrmr\"][\"f1\"],\n",
    "        results[\"combined_mlp_mrmr\"][\"f1\"],\n",
    "    ],\n",
    "    title=\"Micro-F1 Scores For Top 3 Models\",\n",
    "    ylabel=\"Micro-F1 Score\",\n",
    "    models=[\"Logistic Regression\", \"Random Forest\", \"MLP\"],\n",
    "    pad=3\n",
    ")"
   ]
  },
  {
   "cell_type": "code",
   "execution_count": null,
   "outputs": [],
   "source": [],
   "metadata": {
    "collapsed": false
   }
  },
  {
   "cell_type": "code",
   "execution_count": null,
   "outputs": [],
   "source": [],
   "metadata": {
    "collapsed": false
   }
  },
  {
   "cell_type": "code",
   "execution_count": null,
   "metadata": {},
   "outputs": [],
   "source": [
    "run_elastic_net(clinical_only_mci, num_iters=20, pickle=\"Clinical LR with MCI\")\n",
    "clinical_lr_mci = evaluate_results(\"Clinical LR with MCI\")"
   ]
  },
  {
   "cell_type": "code",
   "execution_count": null,
   "metadata": {},
   "outputs": [],
   "source": [
    "run_elastic_net(clinical_only_subset_mci, num_iters=20, pickle=\"Clinical LR with MCI and MRMR\")\n",
    "clinical_lr_mci_mrmr = evaluate_results(\"Clinical LR with MCI and MRMR\")"
   ]
  }
 ],
 "metadata": {
  "kernelspec": {
   "display_name": "Python 3 (ipykernel)",
   "language": "python",
   "name": "python3"
  },
  "language_info": {
   "codemirror_mode": {
    "name": "ipython",
    "version": 3
   },
   "file_extension": ".py",
   "mimetype": "text/x-python",
   "name": "python",
   "nbconvert_exporter": "python",
   "pygments_lexer": "ipython3",
   "version": "3.11.1"
  }
 },
 "nbformat": 4,
 "nbformat_minor": 1
}
