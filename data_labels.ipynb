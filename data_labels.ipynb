{
 "cells": [
  {
   "cell_type": "code",
   "execution_count": 2,
   "metadata": {},
   "outputs": [],
   "source": [
    "from matplotlib import pyplot as plt\n",
    "import numpy as np\n",
    "import pandas as pd"
   ]
  },
  {
   "cell_type": "code",
   "execution_count": 3,
   "metadata": {},
   "outputs": [
    {
     "data": {
      "text/html": [
       "<div>\n",
       "<style scoped>\n",
       "    .dataframe tbody tr th:only-of-type {\n",
       "        vertical-align: middle;\n",
       "    }\n",
       "\n",
       "    .dataframe tbody tr th {\n",
       "        vertical-align: top;\n",
       "    }\n",
       "\n",
       "    .dataframe thead th {\n",
       "        text-align: right;\n",
       "    }\n",
       "</style>\n",
       "<table border=\"1\" class=\"dataframe\">\n",
       "  <thead>\n",
       "    <tr style=\"text-align: right;\">\n",
       "      <th></th>\n",
       "      <th>Order</th>\n",
       "      <th>Variable Name</th>\n",
       "      <th>Order # on Form</th>\n",
       "      <th>Description</th>\n",
       "      <th>Responses</th>\n",
       "      <th>Missing Value Codes</th>\n",
       "    </tr>\n",
       "  </thead>\n",
       "  <tbody>\n",
       "    <tr>\n",
       "      <th>0</th>\n",
       "      <td>1.0</td>\n",
       "      <td>Misc_TARC_PAT</td>\n",
       "      <td>1</td>\n",
       "      <td>Patient ID</td>\n",
       "      <td>2 digit site ID + 6 digit patient ID</td>\n",
       "      <td>NaN</td>\n",
       "    </tr>\n",
       "    <tr>\n",
       "      <th>1</th>\n",
       "      <td>2.0</td>\n",
       "      <td>Misc_TARC_PAT_VISIT</td>\n",
       "      <td>2</td>\n",
       "      <td>Patient ID and visit number</td>\n",
       "      <td>Nomenclature is 2 digit site ID + 6 digit pati...</td>\n",
       "      <td>NaN</td>\n",
       "    </tr>\n",
       "    <tr>\n",
       "      <th>2</th>\n",
       "      <td>3.0</td>\n",
       "      <td>Misc_SiteID</td>\n",
       "      <td>3</td>\n",
       "      <td>Site ID</td>\n",
       "      <td>11 = Baylor, 25 = UTSW, 31 = UTDell, 51 = UNTH...</td>\n",
       "      <td>NaN</td>\n",
       "    </tr>\n",
       "    <tr>\n",
       "      <th>3</th>\n",
       "      <td>4.0</td>\n",
       "      <td>MISC_TARC_PAT_VISIT</td>\n",
       "      <td>4</td>\n",
       "      <td>2 digit site + 6 digit participant ID + 2 digi...</td>\n",
       "      <td>10 digit number</td>\n",
       "      <td>NaN</td>\n",
       "    </tr>\n",
       "    <tr>\n",
       "      <th>4</th>\n",
       "      <td>5.0</td>\n",
       "      <td>CCR</td>\n",
       "      <td>5</td>\n",
       "      <td>Was the record reviewed by the compliance comm...</td>\n",
       "      <td>0=No, 1=Yes. The CCR data items represent acti...</td>\n",
       "      <td>NaN</td>\n",
       "    </tr>\n",
       "  </tbody>\n",
       "</table>\n",
       "</div>"
      ],
      "text/plain": [
       "   Order        Variable Name Order # on Form  \\\n",
       "0    1.0        Misc_TARC_PAT               1   \n",
       "1    2.0  Misc_TARC_PAT_VISIT               2   \n",
       "2    3.0          Misc_SiteID               3   \n",
       "3    4.0  MISC_TARC_PAT_VISIT               4   \n",
       "4    5.0                  CCR               5   \n",
       "\n",
       "                                         Description  \\\n",
       "0                                         Patient ID   \n",
       "1                        Patient ID and visit number   \n",
       "2                                            Site ID   \n",
       "3  2 digit site + 6 digit participant ID + 2 digi...   \n",
       "4  Was the record reviewed by the compliance comm...   \n",
       "\n",
       "                                           Responses Missing Value Codes  \n",
       "0               2 digit site ID + 6 digit patient ID                 NaN  \n",
       "1  Nomenclature is 2 digit site ID + 6 digit pati...                 NaN  \n",
       "2  11 = Baylor, 25 = UTSW, 31 = UTDell, 51 = UNTH...                 NaN  \n",
       "3                                    10 digit number                 NaN  \n",
       "4  0=No, 1=Yes. The CCR data items represent acti...                 NaN  "
      ]
     },
     "execution_count": 3,
     "metadata": {},
     "output_type": "execute_result"
    }
   ],
   "source": [
    "codebook = pd.read_excel(\"20220602-TARCC-Codebook.xlsx\")\n",
    "codebook.head()"
   ]
  },
  {
   "cell_type": "code",
   "execution_count": 22,
   "metadata": {},
   "outputs": [
    {
     "data": {
      "text/plain": [
       "'Patient ID'"
      ]
     },
     "execution_count": 22,
     "metadata": {},
     "output_type": "execute_result"
    }
   ],
   "source": [
    "def get_desc(col) -> str:\n",
    "    q = f\"`Variable Name` == '{col}'\"\n",
    "    row = codebook.query(q)\n",
    "    return row[\"Description\"][0]\n",
    "\n",
    "get_desc(\"Misc_TARC_PAT\")\n"
   ]
  },
  {
   "cell_type": "code",
   "execution_count": 6,
   "metadata": {},
   "outputs": [
    {
     "data": {
      "text/plain": [
       "{'Misc_TARC_PAT': 'Patient ID'}"
      ]
     },
     "execution_count": 6,
     "metadata": {},
     "output_type": "execute_result"
    }
   ],
   "source": [
    "def get_desc_table(cols) -> dict:\n",
    "    descs = {}\n",
    "    for col in cols:\n",
    "        row = codebook.query(f\"`Variable Name` == '{col}'\")\n",
    "        descs[col] = row[\"Description\"][0]\n",
    "    return descs\n",
    "\n",
    "get_desc_table([\"Misc_TARC_PAT\"])"
   ]
  }
 ],
 "metadata": {
  "kernelspec": {
   "display_name": "Python 3",
   "language": "python",
   "name": "python3"
  },
  "language_info": {
   "codemirror_mode": {
    "name": "ipython",
    "version": 3
   },
   "file_extension": ".py",
   "mimetype": "text/x-python",
   "name": "python",
   "nbconvert_exporter": "python",
   "pygments_lexer": "ipython3",
   "version": "3.9.7"
  },
  "orig_nbformat": 4,
  "vscode": {
   "interpreter": {
    "hash": "25034407fed5d681614dac11a1c0537e8cb49e3a8883c071303eea01322943d9"
   }
  }
 },
 "nbformat": 4,
 "nbformat_minor": 2
}
